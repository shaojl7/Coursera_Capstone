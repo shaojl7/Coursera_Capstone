{
 "cells": [
  {
   "cell_type": "markdown",
   "metadata": {},
   "source": [
    "# Car Accident Severity  \n",
    "*This is report for Capstone Project for Coursera Applied Data Science Capstone Course*"
   ]
  },
  {
   "cell_type": "markdown",
   "metadata": {},
   "source": [
    "## Introduction\n",
    "In this report, we want to study the factors that related to severity in collisions and predict the severity level based on the various factors. With this information, we hope to prevent or mitigate collisions in future"
   ]
  },
  {
   "cell_type": "markdown",
   "metadata": {},
   "source": [
    "## Data\n",
    "The data used in this study is accidents data for Seattle City. It includes all collisions data provided by SPD and recorded by Traffic Records from 2004 to present, in weekly frequency. Data is in structural format. \n",
    "Target variable is `SEVERITYCODE`, where a numeric code is used to indicate whether it is fatality, serious injury, injury, prop damage, or unknown. \n",
    "Features used include the following:\n",
    "- `ADDRTYPE`: collision address type, whether it is Alley, Block, or Intersection\n",
    "- `INCDATE`: the date of the incident\n",
    "- `INCDTTM`: the date and time of the incident\n",
    "- `UNDERINFL`: whether or not a driver involved was under the influence of drugs or alcohol\n",
    "- `WEATHER`: a description of the weather conditions during the time of the collision\n",
    "- `ROADCOND`: the condition of the road during the collision\n",
    "- `LIGHTCOND`: the light conditions during the collision\n",
    "- `SPEEDING`: whether or not speeding was a factor in the collision"
   ]
  },
  {
   "cell_type": "code",
   "execution_count": null,
   "metadata": {},
   "outputs": [],
   "source": []
  }
 ],
 "metadata": {
  "kernelspec": {
   "display_name": "Python 3",
   "language": "python",
   "name": "python3"
  },
  "language_info": {
   "codemirror_mode": {
    "name": "ipython",
    "version": 3
   },
   "file_extension": ".py",
   "mimetype": "text/x-python",
   "name": "python",
   "nbconvert_exporter": "python",
   "pygments_lexer": "ipython3",
   "version": "3.7.7"
  }
 },
 "nbformat": 4,
 "nbformat_minor": 4
}
